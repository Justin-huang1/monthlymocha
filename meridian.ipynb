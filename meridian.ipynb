{
 "cells": [
  {
   "cell_type": "code",
   "execution_count": 36,
   "id": "83988dde",
   "metadata": {},
   "outputs": [
    {
     "ename": "SyntaxError",
     "evalue": "invalid syntax (4697945.py, line 2)",
     "output_type": "error",
     "traceback": [
      "  \u001b[36mCell\u001b[39m\u001b[36m \u001b[39m\u001b[32mIn[36]\u001b[39m\u001b[32m, line 2\u001b[39m\n\u001b[31m    \u001b[39m\u001b[31mUsers/justinhuang/monthlymocha/.venv/bin/python(-V)\u001b[39m\n                                   ^\n\u001b[31mSyntaxError\u001b[39m\u001b[31m:\u001b[39m invalid syntax\n"
     ]
    }
   ],
   "source": [
    "# confirm we're hitting the notebook's interpreter\n",
    "/Users/justinhuang/monthlymocha/.venv/bin/python -V\n",
    "/Users/justinhuang/monthlymocha/.venv/bin/python -m pip -V\n",
    "\n",
    "# pin numpy < 2 (and pandas if needed), *force* reinstall and avoid cache\n",
    "/Users/justinhuang/monthlymocha/.venv/bin/python -m pip install --upgrade --force-reinstall --no-cache-dir \"numpy==1.26.4\"\n",
    "/Users/justinhuang/monthlymocha/.venv/bin/python -m pip install --upgrade \"pandas<2.2\"\n"
   ]
  },
  {
   "cell_type": "code",
   "execution_count": null,
   "id": "a8e6d6a3",
   "metadata": {},
   "outputs": [],
   "source": []
  }
 ],
 "metadata": {
  "kernelspec": {
   "display_name": ".venv310",
   "language": "python",
   "name": "python3"
  },
  "language_info": {
   "codemirror_mode": {
    "name": "ipython",
    "version": 3
   },
   "file_extension": ".py",
   "mimetype": "text/x-python",
   "name": "python",
   "nbconvert_exporter": "python",
   "pygments_lexer": "ipython3",
   "version": "3.10.18"
  }
 },
 "nbformat": 4,
 "nbformat_minor": 5
}
